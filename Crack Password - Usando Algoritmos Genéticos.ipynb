{
 "cells": [
  {
   "cell_type": "markdown",
   "metadata": {},
   "source": [
    "# Crack Password - Usando Algoritmos Genéticos\n",
    "Estudo baseado no curso [Inteligência Artificial: Algoritmos Genéticos com Python](https://www.udemy.com/inteligencia-artificial-algoritmos-geneticos/) - professor [Marcos Castro](http://www.mcastrosouza.com/)"
   ]
  },
  {
   "cell_type": "code",
   "execution_count": 1,
   "metadata": {},
   "outputs": [],
   "source": [
    "import random\n",
    "import string\n",
    "import operator"
   ]
  },
  {
   "cell_type": "code",
   "execution_count": 2,
   "metadata": {},
   "outputs": [],
   "source": [
    "def fitness(senha, palavra):\n",
    "    tam_senha = len(senha)\n",
    "    if tam_senha != len(palavra):\n",
    "        print('senhas incompativeis')\n",
    "        return\n",
    "    score = 0\n",
    "    for i in range(tam_senha):\n",
    "        if senha[i] == palavra[i]:\n",
    "            score += 1\n",
    "    return score * 100 / tam_senha"
   ]
  },
  {
   "cell_type": "code",
   "execution_count": 3,
   "metadata": {},
   "outputs": [
    {
     "data": {
      "text/plain": [
       "75.0"
      ]
     },
     "execution_count": 3,
     "metadata": {},
     "output_type": "execute_result"
    }
   ],
   "source": [
    "fitness('j0ao', 'joao')"
   ]
  },
  {
   "cell_type": "code",
   "execution_count": 4,
   "metadata": {},
   "outputs": [
    {
     "data": {
      "text/plain": [
       "100.0"
      ]
     },
     "execution_count": 4,
     "metadata": {},
     "output_type": "execute_result"
    }
   ],
   "source": [
    "fitness('joao', 'joao')"
   ]
  },
  {
   "cell_type": "code",
   "execution_count": 5,
   "metadata": {},
   "outputs": [],
   "source": [
    "def gerar_individuo(tam):\n",
    "    individuo = ''\n",
    "    for i in range(tam):\n",
    "        individuo += random.choice(string.ascii_lowercase)\n",
    "    return individuo"
   ]
  },
  {
   "cell_type": "code",
   "execution_count": 6,
   "metadata": {},
   "outputs": [
    {
     "data": {
      "text/plain": [
       "'txfkbi'"
      ]
     },
     "execution_count": 6,
     "metadata": {},
     "output_type": "execute_result"
    }
   ],
   "source": [
    "gerar_individuo(6)"
   ]
  },
  {
   "cell_type": "code",
   "execution_count": 7,
   "metadata": {},
   "outputs": [],
   "source": [
    "def gerar_populacao(tam_pop, tam_senha):\n",
    "    pop = []\n",
    "    for i in range(tam_pop):\n",
    "        pop.append(gerar_individuo(tam_senha))\n",
    "    return pop"
   ]
  },
  {
   "cell_type": "code",
   "execution_count": 8,
   "metadata": {},
   "outputs": [
    {
     "data": {
      "text/plain": [
       "['eboltb',\n",
       " 'zqhopp',\n",
       " 'plaqly',\n",
       " 'sepifa',\n",
       " 'iufgvm',\n",
       " 'ypdokr',\n",
       " 'cayhkx',\n",
       " 'liefbr',\n",
       " 'gnsaho',\n",
       " 'shflkj']"
      ]
     },
     "execution_count": 8,
     "metadata": {},
     "output_type": "execute_result"
    }
   ],
   "source": [
    "gerar_populacao(10, 6)"
   ]
  },
  {
   "cell_type": "code",
   "execution_count": null,
   "metadata": {},
   "outputs": [],
   "source": [
    "# Função original passada pelo professor\n",
    "def pop_fitness(pop, senha):\n",
    "    pop_score = {}\n",
    "    for i in range(len(pop)):\n",
    "        pop_score[i] = fitness(senha, pop[i])\n",
    "    return sorted(pop_score.items(), key=operator.itemgetter(1), reverse=True)"
   ]
  },
  {
   "cell_type": "code",
   "execution_count": 9,
   "metadata": {},
   "outputs": [],
   "source": [
    "# Alterada com a opção extra \"adivinhar\" para que a população evolua sem um objetivo definido\n",
    "# Basicamente, chegar ao resultado com esta opção ativa é uma questão de sorte\n",
    "def pop_fitness(pop, senha, adivinhar=False):\n",
    "    pop_score = {}\n",
    "    for i in range(len(pop)):\n",
    "        if adivinhar:\n",
    "            pop_score[i] = random.randint(0, 100)\n",
    "        else:\n",
    "            pop_score[i] = fitness(senha, pop[i])\n",
    "    return sorted(pop_score.items(), key=operator.itemgetter(1), reverse=True)"
   ]
  },
  {
   "cell_type": "code",
   "execution_count": 10,
   "metadata": {},
   "outputs": [
    {
     "name": "stdout",
     "output_type": "stream",
     "text": [
      "['rpwuvs', 'bahnie', 'ovgkwm', 'ohxkhu', 'xokxwy', 'mlwjju', 'zbwfei', 'idsxbo', 'rxpbzs', 'paiwex']\n"
     ]
    },
    {
     "data": {
      "text/plain": [
       "[(1, 16.666666666666668),\n",
       " (6, 16.666666666666668),\n",
       " (0, 0.0),\n",
       " (2, 0.0),\n",
       " (3, 0.0),\n",
       " (4, 0.0),\n",
       " (5, 0.0),\n",
       " (7, 0.0),\n",
       " (8, 0.0),\n",
       " (9, 0.0)]"
      ]
     },
     "execution_count": 10,
     "metadata": {},
     "output_type": "execute_result"
    }
   ],
   "source": [
    "pop = gerar_populacao(10, 6)\n",
    "print(pop)\n",
    "pop_fitness(pop, 'franci')"
   ]
  },
  {
   "cell_type": "code",
   "execution_count": 11,
   "metadata": {},
   "outputs": [],
   "source": [
    "def selecionar_pais(pop, pop_ordenada, melhores, aleatorios):\n",
    "    prox_geracao = []\n",
    "    for i in range(melhores):\n",
    "        prox_geracao.append(pop[pop_ordenada[i][0]])\n",
    "    for i in range(aleatorios):\n",
    "        prox_geracao.append(pop[random.choice(pop_ordenada)[0]])\n",
    "    random.shuffle(prox_geracao)\n",
    "    return prox_geracao"
   ]
  },
  {
   "cell_type": "code",
   "execution_count": 12,
   "metadata": {},
   "outputs": [
    {
     "data": {
      "text/plain": [
       "['mwnfgd',\n",
       " 'redwbe',\n",
       " 'irgnks',\n",
       " 'wqnwcp',\n",
       " 'jsoknr',\n",
       " 'prjjsc',\n",
       " 'zcuykq',\n",
       " 'irgnks',\n",
       " 'gvluns',\n",
       " 'mwnfgd']"
      ]
     },
     "execution_count": 12,
     "metadata": {},
     "output_type": "execute_result"
    }
   ],
   "source": [
    "pop = gerar_populacao(10, 6)\n",
    "senha = 'franci'\n",
    "pop_score = pop_fitness(pop, senha)\n",
    "melhores = 7\n",
    "aleatorios = 3\n",
    "selecionar_pais(pop, pop_score, melhores, aleatorios)"
   ]
  },
  {
   "cell_type": "code",
   "execution_count": 13,
   "metadata": {},
   "outputs": [],
   "source": [
    "def gerar_filho(ind1, ind2):\n",
    "    filho = ''\n",
    "    for i in range(len(ind1)):\n",
    "        if(int(100 * random.random()) < 50):\n",
    "            filho += ind1[i]\n",
    "        else:\n",
    "            filho += ind2[i]\n",
    "    return filho"
   ]
  },
  {
   "cell_type": "code",
   "execution_count": 14,
   "metadata": {},
   "outputs": [
    {
     "data": {
      "text/plain": [
       "'ghijef'"
      ]
     },
     "execution_count": 14,
     "metadata": {},
     "output_type": "execute_result"
    }
   ],
   "source": [
    "gerar_filho('abcdef', 'ghijlm')"
   ]
  },
  {
   "cell_type": "code",
   "execution_count": 15,
   "metadata": {},
   "outputs": [],
   "source": [
    "def gerar_filhos(pop, num_filhos):\n",
    "    prox_pop = []\n",
    "    for i in range(len(pop)//2):\n",
    "        for j in range(num_filhos):\n",
    "            prox_pop.append(gerar_filho(pop[i], pop[len(pop) - 1 - i]))\n",
    "    return prox_pop"
   ]
  },
  {
   "cell_type": "code",
   "execution_count": 16,
   "metadata": {},
   "outputs": [
    {
     "data": {
      "text/plain": [
       "['uwngfd',\n",
       " 'mwbffz',\n",
       " 'irgwbe',\n",
       " 'irdnks',\n",
       " 'jsjjsr',\n",
       " 'jrjksc',\n",
       " 'wcuycq',\n",
       " 'wqnwkp',\n",
       " 'lxlins',\n",
       " 'gxliuz']"
      ]
     },
     "execution_count": 16,
     "metadata": {},
     "output_type": "execute_result"
    }
   ],
   "source": [
    "gerar_filhos(pop, 2)"
   ]
  },
  {
   "cell_type": "code",
   "execution_count": 17,
   "metadata": {},
   "outputs": [
    {
     "data": {
      "text/plain": [
       "['mwbffz',\n",
       " 'uwbfgd',\n",
       " 'mwbffd',\n",
       " 'rrdnbe',\n",
       " 'iegwbs',\n",
       " 'irdnbe',\n",
       " 'jsjjnr',\n",
       " 'psoknr',\n",
       " 'jrojsc',\n",
       " 'zqnwkp',\n",
       " 'zcuwcq',\n",
       " 'wcnykp',\n",
       " 'lvcius',\n",
       " 'lxcuus',\n",
       " 'lxluns']"
      ]
     },
     "execution_count": 17,
     "metadata": {},
     "output_type": "execute_result"
    }
   ],
   "source": [
    "filhos = gerar_filhos(pop, 3)\n",
    "filhos"
   ]
  },
  {
   "cell_type": "code",
   "execution_count": 18,
   "metadata": {},
   "outputs": [],
   "source": [
    "def mutacao_individuo(individuo):\n",
    "    indice = int(random.random() * len(individuo))\n",
    "    letra = random.choice(string.ascii_lowercase)\n",
    "    if indice == 0:\n",
    "        individuo = letra + individuo[1:]\n",
    "    else:\n",
    "        individuo = individuo[:indice] + letra + individuo[indice+1:]\n",
    "    return individuo"
   ]
  },
  {
   "cell_type": "code",
   "execution_count": 19,
   "metadata": {},
   "outputs": [
    {
     "data": {
      "text/plain": [
       "'ohmirr'"
      ]
     },
     "execution_count": 19,
     "metadata": {},
     "output_type": "execute_result"
    }
   ],
   "source": [
    "mutacao_individuo('ohlirr')"
   ]
  },
  {
   "cell_type": "code",
   "execution_count": 20,
   "metadata": {},
   "outputs": [],
   "source": [
    "def mutacao(pop, taxa):\n",
    "    for i in range(len(pop)):\n",
    "        if random.random()*100 < taxa:\n",
    "            pop[i] = mutacao_individuo(pop[i])\n",
    "    return pop"
   ]
  },
  {
   "cell_type": "code",
   "execution_count": 21,
   "metadata": {},
   "outputs": [
    {
     "data": {
      "text/plain": [
       "['mwbffz',\n",
       " 'uwbfgd',\n",
       " 'mwbfff',\n",
       " 'rrdnbe',\n",
       " 'iegwbs',\n",
       " 'irdnbe',\n",
       " 'jsjjnr',\n",
       " 'psoknr',\n",
       " 'jrojsc',\n",
       " 'zqnwkp',\n",
       " 'zcuwcq',\n",
       " 'wcnykp',\n",
       " 'lvcius',\n",
       " 'lxcuus',\n",
       " 'lxluns']"
      ]
     },
     "execution_count": 21,
     "metadata": {},
     "output_type": "execute_result"
    }
   ],
   "source": [
    "mutacao(filhos, 10)"
   ]
  },
  {
   "cell_type": "code",
   "execution_count": 22,
   "metadata": {},
   "outputs": [
    {
     "name": "stdout",
     "output_type": "stream",
     "text": [
      "140.0\n",
      "60.0\n"
     ]
    }
   ],
   "source": [
    "pop = 200\n",
    "tx = 70\n",
    "melhores = tx /100 * pop\n",
    "print(melhores)\n",
    "aleatorios = pop - melhores\n",
    "print(aleatorios)"
   ]
  },
  {
   "cell_type": "code",
   "execution_count": 23,
   "metadata": {},
   "outputs": [],
   "source": [
    "def encontrar_password(senha, tam_pop=100, max_iter=500, taxa_sel_pais=70, taxa_mutacao=5, num_filhos=2, adivinhar=False):\n",
    "    tam_senha = len(senha)\n",
    "    pop = gerar_populacao(tam_pop, tam_senha)\n",
    "    melhores = int(taxa_sel_pais / 100 * tam_pop)\n",
    "    aleatorios = tam_pop - melhores\n",
    "    for i in range(max_iter):\n",
    "        pop_ordenada = pop_fitness(pop, senha, adivinhar)\n",
    "        pop_selecionada = selecionar_pais(pop, pop_ordenada, melhores, aleatorios)\n",
    "        nova_pop = gerar_filhos(pop_selecionada, num_filhos)\n",
    "        pop = mutacao(nova_pop, taxa_mutacao)\n",
    "        encontrado = False\n",
    "        for ind in pop:\n",
    "            if fitness(senha, ind) == 100:\n",
    "                encontrado = True\n",
    "                break\n",
    "        if encontrado:\n",
    "            break\n",
    "    indice_melhor, score_melhor = pop_fitness(pop, senha)[0]\n",
    "    print('Melhor individuo: ', pop[indice_melhor])\n",
    "    print('Score Melhor individuo: ', score_melhor)\n",
    "    print('Iteracoes: ', i + 1)"
   ]
  },
  {
   "cell_type": "code",
   "execution_count": 32,
   "metadata": {},
   "outputs": [
    {
     "name": "stdout",
     "output_type": "stream",
     "text": [
      "Melhor individuo:  francisco\n",
      "Score Melhor individuo:  100.0\n",
      "Iteracoes:  113\n"
     ]
    }
   ],
   "source": [
    "encontrar_password('francisco', tam_pop=100, max_iter=500)"
   ]
  },
  {
   "cell_type": "code",
   "execution_count": 33,
   "metadata": {},
   "outputs": [
    {
     "name": "stdout",
     "output_type": "stream",
     "text": [
      "Melhor individuo:  francisco\n",
      "Score Melhor individuo:  100.0\n",
      "Iteracoes:  76\n"
     ]
    }
   ],
   "source": [
    "encontrar_password('francisco', tam_pop=100, max_iter=500)"
   ]
  },
  {
   "cell_type": "code",
   "execution_count": 34,
   "metadata": {
    "scrolled": true
   },
   "outputs": [
    {
     "name": "stdout",
     "output_type": "stream",
     "text": [
      "Melhor individuo:  itaacxkao\n",
      "Score Melhor individuo:  33.333333333333336\n",
      "Iteracoes:  500\n"
     ]
    }
   ],
   "source": [
    "encontrar_password('francisco', tam_pop=100, max_iter=500, adivinhar=True)"
   ]
  },
  {
   "cell_type": "code",
   "execution_count": 35,
   "metadata": {},
   "outputs": [
    {
     "name": "stdout",
     "output_type": "stream",
     "text": [
      "Melhor individuo:  fatnvvpcu\n",
      "Score Melhor individuo:  33.333333333333336\n",
      "Iteracoes:  1000\n"
     ]
    }
   ],
   "source": [
    "encontrar_password('francisco', tam_pop=1000, max_iter=1000, num_filhos=5, adivinhar=True)"
   ]
  },
  {
   "cell_type": "code",
   "execution_count": 36,
   "metadata": {},
   "outputs": [
    {
     "name": "stdout",
     "output_type": "stream",
     "text": [
      "Melhor individuo:  jnsedasipvasantos\n",
      "Score Melhor individuo:  88.23529411764706\n",
      "Iteracoes:  500\n"
     ]
    }
   ],
   "source": [
    "encontrar_password('josedasilvasantos',tam_pop=100, max_iter=500)"
   ]
  },
  {
   "cell_type": "code",
   "execution_count": 37,
   "metadata": {},
   "outputs": [
    {
     "name": "stdout",
     "output_type": "stream",
     "text": [
      "Melhor individuo:  yoczwgkzvsmahsneb\n",
      "Score Melhor individuo:  5.882352941176471\n",
      "Iteracoes:  500\n"
     ]
    }
   ],
   "source": [
    "encontrar_password('josedasilvasantos', tam_pop=100, max_iter=500, num_filhos=3, adivinhar=True)"
   ]
  },
  {
   "cell_type": "code",
   "execution_count": null,
   "metadata": {},
   "outputs": [],
   "source": []
  }
 ],
 "metadata": {
  "kernelspec": {
   "display_name": "Python 3",
   "language": "python",
   "name": "python3"
  },
  "language_info": {
   "codemirror_mode": {
    "name": "ipython",
    "version": 3
   },
   "file_extension": ".py",
   "mimetype": "text/x-python",
   "name": "python",
   "nbconvert_exporter": "python",
   "pygments_lexer": "ipython3",
   "version": "3.5.2"
  }
 },
 "nbformat": 4,
 "nbformat_minor": 2
}
