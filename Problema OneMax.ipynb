{
 "cells": [
  {
   "cell_type": "markdown",
   "metadata": {},
   "source": [
    "# OneMax - usando algoritmo genético\n",
    "\n",
    "Estudo baseado no curso [Inteligência Artificial: Algoritmos Genéticos com Python](https://www.udemy.com/inteligencia-artificial-algoritmos-geneticos/) - professor [Marcos Castro](http://www.mcastrosouza.com/)\n",
    "\n",
    "Faz uma string formada por de 0 e 1 \"1001010\" chegar ao valor máximo de 1 \"111111\""
   ]
  },
  {
   "cell_type": "code",
   "execution_count": 89,
   "metadata": {},
   "outputs": [
    {
     "data": {
      "text/plain": [
       "0.8035061185309903"
      ]
     },
     "execution_count": 89,
     "metadata": {},
     "output_type": "execute_result"
    }
   ],
   "source": [
    "import random\n",
    "# random.random() gera um numero entre 0 e 1\n",
    "random.random()"
   ]
  },
  {
   "cell_type": "code",
   "execution_count": 90,
   "metadata": {},
   "outputs": [
    {
     "data": {
      "text/plain": [
       "1"
      ]
     },
     "execution_count": 90,
     "metadata": {},
     "output_type": "execute_result"
    }
   ],
   "source": [
    "# random.randint(0, 1) -> gera numeros inteiros entre 0 e 1 (incluindo o 1)\n",
    "random.randint(0, 1)"
   ]
  },
  {
   "cell_type": "code",
   "execution_count": 91,
   "metadata": {},
   "outputs": [],
   "source": [
    "def gerar_individuo(qtde_genes):\n",
    "    ind = ''\n",
    "    for i in range(qtde_genes):\n",
    "        ind += str(random.randint(0, 1))\n",
    "    return ind"
   ]
  },
  {
   "cell_type": "code",
   "execution_count": 92,
   "metadata": {},
   "outputs": [
    {
     "data": {
      "text/plain": [
       "'1000111000'"
      ]
     },
     "execution_count": 92,
     "metadata": {},
     "output_type": "execute_result"
    }
   ],
   "source": [
    "gerar_individuo(10)"
   ]
  },
  {
   "cell_type": "code",
   "execution_count": 93,
   "metadata": {},
   "outputs": [],
   "source": [
    "def gerar_populacao(tam_pop, qtde_genes):\n",
    "    pop = []\n",
    "    for i in range(tam_pop):\n",
    "        pop.append(gerar_individuo(qtde_genes))\n",
    "    return pop"
   ]
  },
  {
   "cell_type": "code",
   "execution_count": 94,
   "metadata": {},
   "outputs": [
    {
     "data": {
      "text/plain": [
       "['11101',\n",
       " '00110',\n",
       " '11001',\n",
       " '01011',\n",
       " '01100',\n",
       " '00011',\n",
       " '01011',\n",
       " '00101',\n",
       " '01111',\n",
       " '01110']"
      ]
     },
     "execution_count": 94,
     "metadata": {},
     "output_type": "execute_result"
    }
   ],
   "source": [
    "gerar_populacao(10, 5)"
   ]
  },
  {
   "cell_type": "code",
   "execution_count": 95,
   "metadata": {},
   "outputs": [],
   "source": [
    "# avalia quão próximo o individuo está do OneMax '11111111'\n",
    "def fitness(ind):\n",
    "    return sum(int(gene) for gene in ind)"
   ]
  },
  {
   "cell_type": "code",
   "execution_count": 96,
   "metadata": {},
   "outputs": [
    {
     "data": {
      "text/plain": [
       "4"
      ]
     },
     "execution_count": 96,
     "metadata": {},
     "output_type": "execute_result"
    }
   ],
   "source": [
    "individuo = '0101011'\n",
    "fitness(individuo)"
   ]
  },
  {
   "cell_type": "code",
   "execution_count": 97,
   "metadata": {},
   "outputs": [
    {
     "data": {
      "text/plain": [
       "5"
      ]
     },
     "execution_count": 97,
     "metadata": {},
     "output_type": "execute_result"
    }
   ],
   "source": [
    "# em uma população com individuos com 5 genes, o valor máxio de fitness() é 5\n",
    "indiviguo = '11111'\n",
    "fitness(indiviguo)"
   ]
  },
  {
   "cell_type": "code",
   "execution_count": 138,
   "metadata": {},
   "outputs": [],
   "source": [
    "def selecionar_pais(pop,K=3):\n",
    "    pais = []\n",
    "    tam_pop = len(pop)\n",
    "    for torneio in range(tam_pop):\n",
    "        competidores = []\n",
    "        for i in range(K):\n",
    "            indice = random.randint(0, tam_pop-1)\n",
    "            competidores.append(pop[indice])\n",
    "        maior_avaliacao = fitness(competidores[0])\n",
    "        vencedor = competidores[0]\n",
    "        for i in range(1, K):\n",
    "            avaliacao = fitness(competidores[i])\n",
    "            if avaliacao > maior_avaliacao:\n",
    "                maior_avaliacao = avaliacao\n",
    "                vencedor = competidores[i]\n",
    "        pais.append(vencedor)\n",
    "    return pais"
   ]
  },
  {
   "cell_type": "code",
   "execution_count": 139,
   "metadata": {},
   "outputs": [
    {
     "data": {
      "text/plain": [
       "['00111',\n",
       " '10100',\n",
       " '01101',\n",
       " '10110',\n",
       " '00111',\n",
       " '00100',\n",
       " '11110',\n",
       " '00111',\n",
       " '01111',\n",
       " '11000']"
      ]
     },
     "execution_count": 139,
     "metadata": {},
     "output_type": "execute_result"
    }
   ],
   "source": [
    "tam_pop = 10\n",
    "qtde_genes = 5\n",
    "pop = gerar_populacao(10, 5)\n",
    "pop"
   ]
  },
  {
   "cell_type": "code",
   "execution_count": 141,
   "metadata": {},
   "outputs": [
    {
     "data": {
      "text/plain": [
       "['00111',\n",
       " '01101',\n",
       " '11110',\n",
       " '00111',\n",
       " '11110',\n",
       " '00111',\n",
       " '11110',\n",
       " '01111',\n",
       " '01111',\n",
       " '10110']"
      ]
     },
     "execution_count": 141,
     "metadata": {},
     "output_type": "execute_result"
    }
   ],
   "source": [
    "pais = selecionar_pais(pop)\n",
    "pais"
   ]
  },
  {
   "cell_type": "code",
   "execution_count": 142,
   "metadata": {},
   "outputs": [],
   "source": [
    "def gerar_filhos(pais, taxa_crossover=0.7):\n",
    "    nova_pop = []\n",
    "    tam_pop = len(pop)\n",
    "    for i in range(tam_pop//2):\n",
    "        # choice escolhe os pais aleatoriamente\n",
    "        pai1 = random.choice(pais)\n",
    "        pai2 = random.choice(pais)\n",
    "        if random.random() < taxa_crossover:\n",
    "            corte = random.randint(1, len(pai1)-1)\n",
    "            filho1 = pai1[0:corte] + pai2[corte:]\n",
    "            filho2 = pai2[0:corte] + pai1[corte:]\n",
    "            nova_pop.append(filho1)\n",
    "            nova_pop.append(filho2)\n",
    "        else:\n",
    "            nova_pop.append(pai1)\n",
    "            nova_pop.append(pai2)\n",
    "    return nova_pop"
   ]
  },
  {
   "cell_type": "code",
   "execution_count": 143,
   "metadata": {},
   "outputs": [
    {
     "data": {
      "text/plain": [
       "['01110',\n",
       " '11111',\n",
       " '11110',\n",
       " '11110',\n",
       " '00110',\n",
       " '11111',\n",
       " '11111',\n",
       " '00110',\n",
       " '01111',\n",
       " '00101']"
      ]
     },
     "execution_count": 143,
     "metadata": {},
     "output_type": "execute_result"
    }
   ],
   "source": [
    "nova_pop = gerar_filhos(pais)\n",
    "nova_pop"
   ]
  },
  {
   "cell_type": "code",
   "execution_count": 144,
   "metadata": {},
   "outputs": [
    {
     "data": {
      "text/plain": [
       "['01101',\n",
       " '01111',\n",
       " '00110',\n",
       " '11111',\n",
       " '11111',\n",
       " '01100',\n",
       " '01110',\n",
       " '10111',\n",
       " '01110',\n",
       " '11111']"
      ]
     },
     "execution_count": 144,
     "metadata": {},
     "output_type": "execute_result"
    }
   ],
   "source": [
    "nova_pop = gerar_filhos(pais, 0.8)\n",
    "nova_pop"
   ]
  },
  {
   "cell_type": "code",
   "execution_count": 147,
   "metadata": {},
   "outputs": [],
   "source": [
    "def mutacao(pop, taxa_mutacao=0.005):\n",
    "    nova_pop = []\n",
    "    tam_pop = len(pop)\n",
    "    for i in range(tam_pop):\n",
    "        individuo = ''\n",
    "        qte_genes = len(pop[i])\n",
    "        for j in range(qte_genes):\n",
    "            if random.random() < taxa_mutacao:\n",
    "                if pop[i][j] == '0':\n",
    "                    individuo += '1'\n",
    "                else:\n",
    "                    individuo += '0'\n",
    "            else:\n",
    "                individuo += pop[i][j]\n",
    "        nova_pop.append(individuo)\n",
    "    return nova_pop"
   ]
  },
  {
   "cell_type": "code",
   "execution_count": 148,
   "metadata": {},
   "outputs": [
    {
     "data": {
      "text/plain": [
       "['01101',\n",
       " '01111',\n",
       " '00110',\n",
       " '11111',\n",
       " '11111',\n",
       " '01100',\n",
       " '01110',\n",
       " '10111',\n",
       " '01010',\n",
       " '11111']"
      ]
     },
     "execution_count": 148,
     "metadata": {},
     "output_type": "execute_result"
    }
   ],
   "source": [
    "pop_mut = mutacao(nova_pop)\n",
    "pop_mut"
   ]
  },
  {
   "cell_type": "code",
   "execution_count": 149,
   "metadata": {},
   "outputs": [
    {
     "name": "stdout",
     "output_type": "stream",
     "text": [
      "00111 00111 01101 01101\n",
      "10100 01101 01111 01111\n",
      "01101 11110 00110 00110\n",
      "10110 00111 11111 11111\n",
      "00111 11110 11111 11111\n",
      "00100 00111 01100 01100\n",
      "11110 11110 01110 01110\n",
      "00111 01111 10111 10111\n",
      "01111 01111 01110 01010\n",
      "11000 10110 11111 11111\n"
     ]
    }
   ],
   "source": [
    "for i in range(len(pop_mut)):\n",
    "    print(pop[i], pais[i], nova_pop[i], pop_mut[i])"
   ]
  },
  {
   "cell_type": "code",
   "execution_count": 151,
   "metadata": {},
   "outputs": [
    {
     "data": {
      "text/plain": [
       "10"
      ]
     },
     "execution_count": 151,
     "metadata": {},
     "output_type": "execute_result"
    }
   ],
   "source": [
    "tam_pop"
   ]
  },
  {
   "cell_type": "code",
   "execution_count": 152,
   "metadata": {},
   "outputs": [
    {
     "data": {
      "text/plain": [
       "['01101',\n",
       " '01111',\n",
       " '00110',\n",
       " '11111',\n",
       " '11111',\n",
       " '01100',\n",
       " '01110',\n",
       " '10111',\n",
       " '01010',\n",
       " '11111']"
      ]
     },
     "execution_count": 152,
     "metadata": {},
     "output_type": "execute_result"
    }
   ],
   "source": [
    "pop_mut"
   ]
  },
  {
   "cell_type": "code",
   "execution_count": 172,
   "metadata": {},
   "outputs": [],
   "source": [
    "def melhor_individuo(pop):\n",
    "    melhor_avaliacao = fitness(pop[0])\n",
    "    indice_melhor = 0\n",
    "    tam_pop = len(pop)\n",
    "    for i in range(1, tam_pop):\n",
    "        avaliacao = fitness(pop[i])\n",
    "        if avaliacao > melhor_avaliacao:\n",
    "            melhor_avaliacao = avaliacao\n",
    "            indice_melhor = i\n",
    "    return pop[indice_melhor]"
   ]
  },
  {
   "cell_type": "code",
   "execution_count": 173,
   "metadata": {},
   "outputs": [
    {
     "data": {
      "text/plain": [
       "'11111'"
      ]
     },
     "execution_count": 173,
     "metadata": {},
     "output_type": "execute_result"
    }
   ],
   "source": [
    "melhor_individuo(pop_mut)"
   ]
  },
  {
   "cell_type": "code",
   "execution_count": 204,
   "metadata": {},
   "outputs": [
    {
     "data": {
      "text/plain": [
       "['00110010110010000011110010011000011000010011110101',\n",
       " '10010001000010011100111011000001011100000110011110',\n",
       " '00101101111100110001100111000000010110001111100001',\n",
       " '10110000011011001101111100010011010110110110011010',\n",
       " '00110100011000111110000111010001011011001100110100',\n",
       " '00101111001010110100101010001010000100001111111011',\n",
       " '00001010010011111010100010001000111111010100000100',\n",
       " '00111100000001101011011001101100110101000101110110',\n",
       " '01001011110110110100111000001010100101100111000001',\n",
       " '11100000001001000101000101101101110001000101010100',\n",
       " '10100010010000111000110001100010110010011101110100',\n",
       " '01001110001000000100011011001110010001110001111111',\n",
       " '00010010101000110010011010001100000000111110101010',\n",
       " '01110101000010011111100100011111001010011101111010',\n",
       " '00001010010101011000010111011110001101111100110010',\n",
       " '01100110100010000111100101001110010011001000110000',\n",
       " '10000110010101111000101100010000000001110110001100',\n",
       " '00011111110111100101100001111101010001000100001011',\n",
       " '11001100011001111011101100110011110110001000000111',\n",
       " '11011110001000011001110110100001100000010110001101']"
      ]
     },
     "execution_count": 204,
     "metadata": {},
     "output_type": "execute_result"
    }
   ],
   "source": [
    "tam_pop = 20\n",
    "qtde_genes = 50\n",
    "\n",
    "geracoes = 150\n",
    "taxa_crossover = 0.75\n",
    "taxa_mutacao = 0.005\n",
    "pop = gerar_populacao(tam_pop, qtde_genes)\n",
    "pop"
   ]
  },
  {
   "cell_type": "code",
   "execution_count": 205,
   "metadata": {},
   "outputs": [],
   "source": [
    "def encontrar_one_max(pop, geracoes, taxa_crossover, taxa_mutacao):\n",
    "    for geracao in range(geracoes):\n",
    "        pais = selecionar_pais(pop)\n",
    "        nova_pop = gerar_filhos(pais, taxa_crossover)\n",
    "        pop = mutacao(nova_pop, taxa_mutacao)\n",
    "        melhor =  melhor_individuo(pop)\n",
    "        if fitness(melhor) == len(pop[0]):\n",
    "            break\n",
    "    melhor =  melhor_individuo(pop)\n",
    "    avaliacao = fitness(melhor)\n",
    "    return melhor, avaliacao, geracao + 1"
   ]
  },
  {
   "cell_type": "code",
   "execution_count": 206,
   "metadata": {},
   "outputs": [],
   "source": [
    "one_max = encontrar_one_max(pop, geracoes, taxa_crossover, taxa_mutacao)"
   ]
  },
  {
   "cell_type": "code",
   "execution_count": 207,
   "metadata": {},
   "outputs": [
    {
     "name": "stdout",
     "output_type": "stream",
     "text": [
      "Melhor individuo:  11111111111111111111111111111111111111111111111111\n",
      "Melhor avaliacao:  50\n",
      "Quantidade de Gerações:  62\n"
     ]
    }
   ],
   "source": [
    "print('Melhor individuo: ', one_max[0])\n",
    "print('Melhor avaliacao: ', one_max[1])\n",
    "print('Quantidade de Gerações: ', one_max[2])"
   ]
  },
  {
   "cell_type": "code",
   "execution_count": 230,
   "metadata": {},
   "outputs": [],
   "source": [
    "tam_pop = 30\n",
    "qtde_genes = 50\n",
    "geracoes = 150\n",
    "taxa_crossover = 0.75\n",
    "taxa_mutacao = 0.005\n",
    "pop = gerar_populacao(tam_pop, qtde_genes)\n",
    "one_max = encontrar_one_max(pop, geracoes, taxa_crossover, taxa_mutacao)"
   ]
  },
  {
   "cell_type": "code",
   "execution_count": 231,
   "metadata": {},
   "outputs": [
    {
     "name": "stdout",
     "output_type": "stream",
     "text": [
      "Melhor individuo:  11111111111111111111111111111111111111111111111111\n",
      "Melhor avaliacao:  50\n",
      "Quantidade de Gerações:  57\n"
     ]
    }
   ],
   "source": [
    "print('Melhor individuo: ', one_max[0])\n",
    "print('Melhor avaliacao: ', one_max[1])\n",
    "print('Quantidade de Gerações: ', one_max[2])"
   ]
  },
  {
   "cell_type": "code",
   "execution_count": null,
   "metadata": {},
   "outputs": [],
   "source": []
  }
 ],
 "metadata": {
  "kernelspec": {
   "display_name": "Python 3",
   "language": "python",
   "name": "python3"
  },
  "language_info": {
   "codemirror_mode": {
    "name": "ipython",
    "version": 3
   },
   "file_extension": ".py",
   "mimetype": "text/x-python",
   "name": "python",
   "nbconvert_exporter": "python",
   "pygments_lexer": "ipython3",
   "version": "3.5.2"
  }
 },
 "nbformat": 4,
 "nbformat_minor": 2
}
